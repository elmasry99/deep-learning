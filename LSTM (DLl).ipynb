{
 "cells": [
  {
   "cell_type": "code",
   "execution_count": 1,
   "id": "9c9e803c-0ed3-4a2c-96a7-50d050c6b363",
   "metadata": {},
   "outputs": [
    {
     "name": "stdout",
     "output_type": "stream",
     "text": [
      "Step 1: Hidden State = 0.23578414698196573, Cell State = 0.37559314891412615\n",
      "Step 2: Hidden State = 0.5131572821009263, Cell State = 0.8531862674331118\n",
      "Step 3: Hidden State = 0.722395373713264, Cell State = 1.430885219981675\n",
      "Step 4: Hidden State = 0.83852761435107, Cell State = 2.098685767087105\n",
      "Predicted Value: 1.506233137221284\n"
     ]
    }
   ],
   "source": [
    "import numpy as np\n",
    "\n",
    "def activation_sigmoid(value):\n",
    "    return 1 / (1 + np.exp(-value))\n",
    "\n",
    "def activation_tanh(value):\n",
    "    return np.tanh(value)\n",
    "\n",
    "def lstm_process(sequence, weight_f, weight_i, weight_c, weight_o, bias_f, bias_i, bias_c, bias_o, init_h, init_c):\n",
    "    hidden_state, cell_state = init_h, init_c\n",
    "    for index, input_value in enumerate(sequence):\n",
    "        \n",
    "        forget_gate = activation_sigmoid(weight_f * input_value + bias_f)\n",
    "        \n",
    "        input_gate = activation_sigmoid(weight_i * input_value + bias_i)\n",
    "        \n",
    "        candidate_cell = activation_tanh(weight_c * input_value + bias_c)\n",
    "        \n",
    "        cell_state = forget_gate * cell_state + input_gate * candidate_cell\n",
    "        \n",
    "        output_gate = activation_sigmoid(weight_o * input_value + bias_o)\n",
    "        \n",
    "        hidden_state = output_gate * activation_tanh(cell_state)\n",
    "        print(f\"Step {index+1}: Hidden State = {hidden_state}, Cell State = {cell_state}\")\n",
    "    return hidden_state\n",
    "\n",
    "input_sequence = [1, 2, 3, 4]  \n",
    "weight_f, weight_i, weight_c, weight_o = 0.5, 0.45, 0.35, 0.4  \n",
    "bias_f, bias_i, bias_c, bias_o = 0.1, 0.2, 0.3, 0.25  \n",
    "initial_hidden, initial_cell = 0, 0  \n",
    "\n",
    "final_hidden = lstm_process(input_sequence, weight_f, weight_i, weight_c, weight_o, bias_f, bias_i, bias_c, bias_o, initial_hidden, initial_cell)\n",
    "\n",
    "weight_output, bias_output = 1.2, 0.5\n",
    "predicted_value = weight_output * final_hidden + bias_output\n",
    "print(f\"Predicted Value: {predicted_value}\")\n"
   ]
  },
  {
   "cell_type": "code",
   "execution_count": null,
   "id": "353df583-caaf-4aee-bcba-61f0816ecb15",
   "metadata": {},
   "outputs": [],
   "source": []
  }
 ],
 "metadata": {
  "kernelspec": {
   "display_name": "Python 3 (ipykernel)",
   "language": "python",
   "name": "python3"
  },
  "language_info": {
   "codemirror_mode": {
    "name": "ipython",
    "version": 3
   },
   "file_extension": ".py",
   "mimetype": "text/x-python",
   "name": "python",
   "nbconvert_exporter": "python",
   "pygments_lexer": "ipython3",
   "version": "3.12.7"
  }
 },
 "nbformat": 4,
 "nbformat_minor": 5
}
